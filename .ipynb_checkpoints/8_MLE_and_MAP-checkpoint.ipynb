{
 "cells": [
  {
   "cell_type": "raw",
   "metadata": {},
   "source": [
    "1.\n",
    "問題設定：\n",
    "チューニングカーブが分散1の正規分布のニューロンを考える。ニューロンの平均発火頻度の最大は50Hzとする。ニューロンは3種類存在し、それぞれ大きさ-4,0,4の刺激を好む。(実際の発火頻度は平均発火頻度（チューニングカーブ）を平均（ラムダ）とするポアソン分布に従います)\n",
    "\n",
    "(1). 3種類のニューロンのチューニングカーブをプロットする。平均発火頻度の最大値が50Hzになっていることを確認すること。(横軸は刺激の大きさ、縦軸は平均発火頻度) \n",
    "(2). fisher informationを計算し、(1)の結果と同時にプロットする。\n",
    "\n",
    "2.\n",
    "問題設定：\n",
    "P(X|m）とP(m）（mの事前分布）が与えられ、Xからmを推定する問題を考える。\n",
    "いま、Xが従う分布は平均m、分散１のガウス分布\n",
    "P(X|m）= N(X|m, 1)\n",
    "で、mの事前分布は平均0、分散１のガウス分布\n",
    "P(m)~N(m|0,1)\n",
    "であるとする。\n",
    "\n",
    "(1) mの事前分布から１つ乱数を生成し、m_trueとする。m=m_trueの場合にXが従う分布から乱数を10個生成する。(X_sample=(x1,x2,x3,...,x10)) \n",
    "m_trueの値と、生成した10個の乱数のヒストグラムを表示する。（生成した乱数が少数なので度数が１のビンが多く見られると思います。この少数のデータからm_trueを推定します。） \n",
    "(2). 横軸をm、縦軸を対数尤度としたグラフをプロットする。(log(p(X_sample|m))) \n",
    "(3). 対数尤度が最大になる時のmと、X_sampleの平均を表示する。ほとんど等しくなる。（解析的に解くと、後者は最尤推定の結果である。)(m_true_ML=argmax_m(log(p(X_sample|m)))=Σ(xk)/10) \n",
    "(4). ここまでは生成された乱数のみを考えてm_trueを推定していたが、ここからmの事前分布を考慮する。X_sampleが与えられた時のmの事後分布を計算してプロットする。（p(m|X_sample)) \n",
    "参考： \n",
    "http://enakai00.hatenablog.com/entry/2015/04/08/181522 \n",
    "(5). 上記の(3), (4)を乱数の数（標本サイズ）を2,(10),30,100に変更して行う。 \n",
    "\n",
    "事後分布をプロットするとき、標本サイズによって出てくる値のスケールが大きく異なり、1つのグラフには書けないと思います。別のグラフに書くか、正則化してスケールを揃えてから1つのグラフに書くことをお勧めします。\n",
    "正則化の方法としては、plt.plot(x,y)する前にyをyの合計(sum(y))で割ることなどが挙げられます。\n",
    "\n",
    "3. この課題は必須ではありません。\n",
    "問題設定：\n",
    "チューニングカーブが分散1の正規分布のニューロンを考える。\n",
    "ニューロンの平均発火頻度の最大値は50Hzとする。\n",
    "ニューロンは41種類存在し、それぞれ大きさ-20,-19,...,0,...19,20の刺激を好む。\n",
    "ニューロンの発火頻度は平均発火頻度（チューニングカーブ）を平均（ラムダ）とするポアソン分布に従う。T=1とし、発火頻度は0.1を下回らないこととする。\n",
    "\n",
    "(1). それぞれのニューロンから、それぞれの刺激の大きさの場合に、100回ずつ発火頻度をサンプリングした結果を散布図にする。(横軸は刺激の大きさ、縦軸はサンプルの発火頻度）\n",
    "(2). 真の刺激の大きさを-2とする。それぞれのニューロンから真の刺激の大きさの場合に1回ずつ発火率をサンプリングした結果から、最尤推定で刺激の大きさを推定して表示する。\n",
    "(3). (2)をMAP推定で推定し、表示する。刺激の事前分布を平均-2、分散1の正規分布とする。\n",
    "\n",
    "参考\n",
    "import numpy as np\n",
    "import scipy as sp\n",
    "from scipy.stats import poisson\n",
    "import matplotlib.pyplot as plt\n",
    "%matplotlib inline\n",
    "\n",
    "正規分布 確率密度関数\n",
    "sp.stats.norm.pdf\n",
    "\n",
    "正規分布の微分\n",
    "-(x-m)/np.sqrt(2*np.pi)*np.exp(-(x-m)**2/2) (分散が1の時)\n",
    "参考：http://www.f-denshi.com/000TokiwaJPN/17kakto/080prob.html\n",
    "\n",
    "配列の最大値のindex\n",
    "np.argmax\n",
    "\n",
    "ポアソン分布 確率質量関数\n",
    "poisson.pmf\n",
    "\n",
    "ポアソン分布 乱数\n",
    "np.random.poisson"
   ]
  },
  {
   "cell_type": "code",
   "execution_count": 1,
   "metadata": {
    "collapsed": true
   },
   "outputs": [],
   "source": [
    "import numpy as np\n",
    "import matplotlib.pyplot as plt\n",
    "%matplotlib inline"
   ]
  },
  {
   "cell_type": "code",
   "execution_count": 2,
   "metadata": {
    "collapsed": true
   },
   "outputs": [],
   "source": [
    "def gauss(m,sig,x):\n",
    "    return 1/np.sqrt(2.0*np.pi*sig**2) * np.exp(-(x-m)**2/2.0/sig**2)"
   ]
  },
  {
   "cell_type": "code",
   "execution_count": 3,
   "metadata": {
    "collapsed": true
   },
   "outputs": [],
   "source": [
    "dx=0.01\n",
    "x=np.arange(-10,10,dx)"
   ]
  },
  {
   "cell_type": "code",
   "execution_count": 8,
   "metadata": {
    "collapsed": false
   },
   "outputs": [
    {
     "name": "stdout",
     "output_type": "stream",
     "text": [
      "m true is -0.00661011991973\n"
     ]
    },
    {
     "data": {
      "image/png": "[encoded data removed]",
      "text/plain": [
       "<matplotlib.figure.Figure at 0x113755b90>"
      ]
     },
     "metadata": {},
     "output_type": "display_data"
    }
   ],
   "source": [
    "m_prior=0.0\n",
    "beta_prior=1.0\n",
    "\n",
    "m_true=np.random.normal(m_prior,1/np.sqrt(beta_prior),1)\n",
    "print('m true is {0}'.format(m_true[0]))\n",
    "\n",
    "beta=1.0\n",
    "n=10\n",
    "X_sample=np.random.normal(m_true,1.0/np.sqrt(beta),n)\n",
    "a=plt.hist(X_sample)"
   ]
  },
  {
   "cell_type": "code",
   "execution_count": 5,
   "metadata": {
    "collapsed": false
   },
   "outputs": [
    {
     "name": "stdout",
     "output_type": "stream",
     "text": [
      "ML ans analyzed (mean) is -1.86968723933\n",
      "ML ans estimated is -1.87\n",
      "MAP ans is -1.69971567212\n"
     ]
    },
    {
     "data": {
      "text/plain": [
       "<matplotlib.text.Text at 0x113943590>"
      ]
     },
     "execution_count": 5,
     "metadata": {},
     "output_type": "execute_result"
    },
    {
     "data": {
      "image/png": "[encoded data removed]",
      "text/plain": [
       "<matplotlib.figure.Figure at 0x110397590>"
      ]
     },
     "metadata": {},
     "output_type": "display_data"
    }
   ],
   "source": [
    "m_ml=np.mean(X_sample)\n",
    "L=[(np.sum(np.log(gauss(m,1.0/np.sqrt(beta),X_sample)))) for m in x]\n",
    "m_ml_est=x[np.argmax(L)]\n",
    "plt.subplot(1,2,1)\n",
    "plt.plot(x,L)\n",
    "plt.title('taisuu yuudo')\n",
    "\n",
    "m_pos=(beta*m_ml + beta_prior/n*m_prior)/(beta+beta_prior/n)\n",
    "beta_pos=beta_prior + n*beta\n",
    "\n",
    "print('ML ans analyzed (mean) is {0}'.format(m_ml))\n",
    "print('ML ans estimated is {0}'.format(m_ml_est))\n",
    "print('MAP ans is {0}'.format(m_pos))\n",
    "y=gauss(m_pos,1/np.sqrt(beta_pos),x)\n",
    "np.sum(x*y)\n",
    "\n",
    "plt.subplot(1,2,2)\n",
    "plt.plot(x,y,label=n)\n",
    "plt.legend()\n",
    "plt.title('zigo bunpu')"
   ]
  },
  {
   "cell_type": "code",
   "execution_count": 7,
   "metadata": {
    "collapsed": false
   },
   "outputs": [
    {
     "name": "stdout",
     "output_type": "stream",
     "text": [
      "sample size is 2\n",
      "ML mean analyzed is 0.579062485646\n",
      "ML mean estimated is 0.58\n",
      "MAP mean is 0.386041657097\n",
      "sample size is 10\n",
      "ML mean analyzed is -0.00149733338877\n",
      "ML mean estimated is -2.13162820728e-13\n",
      "MAP mean is -0.00136121217161\n",
      "sample size is 30\n",
      "ML mean analyzed is 0.55438426013\n",
      "ML mean estimated is 0.55\n",
      "MAP mean is 0.5365008969\n",
      "sample size is 100\n",
      "ML mean analyzed is 0.29369182665\n",
      "ML mean estimated is 0.29\n",
      "MAP mean is 0.290783986783\n",
      "sample size is 1000\n",
      "ML mean analyzed is 0.455717991471\n",
      "ML mean estimated is 0.46\n",
      "MAP mean is 0.455262728742\n"
     ]
    },
    {
     "data": {
      "text/plain": [
       "<matplotlib.text.Text at 0x113be9050>"
      ]
     },
     "execution_count": 7,
     "metadata": {},
     "output_type": "execute_result"
    },
    {
     "data": {
      "image/png": "[encoded data removed]",
      "text/plain": [
       "<matplotlib.figure.Figure at 0x1086382d0>"
      ]
     },
     "metadata": {},
     "output_type": "display_data"
    }
   ],
   "source": [
    "m_prior=0.0\n",
    "beta_prior=1.0\n",
    "\n",
    "\n",
    "m_true=np.random.normal(m_prior,1/np.sqrt(beta_prior),1)\n",
    "beta=1.0\n",
    "\n",
    "n_list=[2,10,30,100,1000]\n",
    "for n in n_list:\n",
    "    \n",
    "    X_sample=np.random.normal(m_true,1.0/np.sqrt(beta),n)\n",
    "    m_ml=np.mean(X_sample)\n",
    "    L=[(np.sum(np.log(gauss(m,1.0/np.sqrt(beta),X_sample)))) for m in x]\n",
    "    m_ml_est=x[np.argmax(L)]\n",
    "\n",
    "    m_pos=(beta*m_ml + beta_prior/n*m_prior)/(beta+beta_prior/n)\n",
    "    beta_pos=beta_prior + n*beta\n",
    "    print('sample size is {0}'.format(n))\n",
    "    print('ML mean analyzed is {0}'.format(m_ml))\n",
    "    print('ML mean estimated is {0}'.format(m_ml_est))\n",
    "    print('MAP mean is {0}'.format(m_pos))\n",
    "    y=gauss(m_pos,1/np.sqrt(beta_pos),x)\n",
    "    np.sum(x*y)\n",
    "    \n",
    "    plt.plot(x,y,label=n)\n",
    "plt.legend()\n",
    "plt.title('zigo bunpu')"
   ]
  },
  {
   "cell_type": "code",
   "execution_count": null,
   "metadata": {
    "collapsed": true
   },
   "outputs": [],
   "source": []
  }
 ],
 "metadata": {
  "kernelspec": {
   "display_name": "Python 2",
   "language": "python",
   "name": "python2"
  },
  "language_info": {
   "codemirror_mode": {
    "name": "ipython",
    "version": 2
   },
   "file_extension": ".py",
   "mimetype": "text/x-python",
   "name": "python",
   "nbconvert_exporter": "python",
   "pygments_lexer": "ipython2",
   "version": "2.7.13"
  }
 },
 "nbformat": 4,
 "nbformat_minor": 2
}
