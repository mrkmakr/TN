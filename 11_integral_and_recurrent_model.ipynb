{
 "cells": [
  {
   "cell_type": "raw",
   "metadata": {},
   "source": [
    "(1)\n",
    "\n",
    "微分方程式を解く練習です。\n",
    "\n",
    "dydx = 3*x**2 - 12*x + 11、\n",
    "\n",
    "If x=0, then y=5\n",
    "\n",
    "0 <= x <=5\n",
    "\n",
    "上記の条件下で、解析的にy=f(x)を求めて、xに対してplotしてください。\n",
    "\n",
    "また、オイラー法などを用いて、近似してy=f(x)を求め、xに対してplotしてください。\n",
    "\n",
    " \n",
    "\n",
    " \n",
    "\n",
    "(2)\n",
    "\n",
    "M = [[1.0 , 0.0] , [0.0 , 0.2]]　という行列の固有値、固有ベクトルを求めて表示してください。\n",
    "\n",
    " \n",
    "\n",
    "(3)\n",
    "\n",
    "入力を行うニューロンが2つ、入力を受けて出力するニューロンが2つの条件のreccurent modelを考えます。\n",
    "\n",
    "ここでは、ネットワークのダイナミクスは以下の式に従うとします。\n",
    "\n",
    "dv/dt=-v + M*v + h\n",
    "\n",
    " \n",
    "\n",
    "hは入力ニューロンの活動を表す２次元ベクトル、vは出力ニューロンの活動を表す２次元ベクトル、Mは出力ニューロン同士のリカレントな接続の重みを定義する2×2の行列です。\n",
    "\n",
    " \n",
    "\n",
    "ここで、\n",
    "\n",
    "dt=0.1\n",
    "\n",
    "v=[0,0] when t=0\n",
    "\n",
    "h = [1.0 , 1.0]  when t<500\n",
    "\n",
    "      [0.0 , 0.0] when t>=500\n",
    "\n",
    "とする。\n",
    "\n",
    " \n",
    "\n",
    "M = [[1.0 , 0.0] , [0.0 , 0.2]]\n",
    "\n",
    "として、t=1000までシミュレーションを進め、横軸をt、縦軸をvとして、vの履歴をプロットしてください。ここで、出力ニューロンは二つあるため、両方のニューロンの活動の履歴をプロットしてください。\n",
    "\n",
    "（t=500までは片方の出力ニューロンの活動は強くなっていき、それ以降はほとんど変化しないはず）\n",
    "\n",
    " \n",
    "\n",
    "(4)\n",
    "\n",
    "M以外の条件は(3)と同様にし、\n",
    "\n",
    "Mの値を\n",
    "\n",
    "M = [[0.99 , 0.0] , [0.0 , 0.2]] \n",
    "\n",
    "として、Mの固有値と固有ベクトルを表示し、\n",
    "\n",
    "t=1000までシミュレーションを進め、横軸をt、縦軸をvとして、vの履歴をプロットしてください。\n",
    "\n",
    " \n",
    "\n",
    "(5)\n",
    "\n",
    "M以外の条件は(3)と同様にし、\n",
    "\n",
    "Mの値を\n",
    "\n",
    "M = [[1.01 , 0.0] , [0.0 , 0.2]] \n",
    "\n",
    "として、Mの固有値と固有ベクトルを表示し、\n",
    "\n",
    "t=1000までシミュレーションを進め、横軸をt、縦軸をvとして、vの履歴をプロットしてください。"
   ]
  },
  {
   "cell_type": "code",
   "execution_count": 33,
   "metadata": {
    "collapsed": true
   },
   "outputs": [],
   "source": [
    "import numpy as np\n",
    "import matplotlib.pyplot as plt\n",
    "%matplotlib inline"
   ]
  },
  {
   "cell_type": "markdown",
   "metadata": {},
   "source": [
    "$$\n",
    "\\begin{align}\n",
    " \\frac{dy}{dx} = 3x^2 - 12x + 11 \\\\\n",
    " \\\\\n",
    " \\textrm{if x=0 then y=5}\\\\\n",
    " \\\\y=x^3-6x^2+11x+5 \n",
    "\\end{align}\n",
    "$$"
   ]
  },
  {
   "cell_type": "code",
   "execution_count": 48,
   "metadata": {
    "collapsed": false
   },
   "outputs": [],
   "source": [
    "def dydx(x):\n",
    "    return 3*x**2 - 12*x + 11\n",
    "def y_true(x):\n",
    "    return x**3 -6*x**2 + 11*x +5"
   ]
  },
  {
   "cell_type": "code",
   "execution_count": 49,
   "metadata": {
    "collapsed": true
   },
   "outputs": [],
   "source": [
    "dx=0.01\n",
    "x_start=0\n",
    "x_end=5\n",
    "x_arange=np.arange(x_start,x_end,dx)\n",
    "y_init=5"
   ]
  },
  {
   "cell_type": "code",
   "execution_count": 50,
   "metadata": {
    "collapsed": true
   },
   "outputs": [],
   "source": [
    "y=[]\n",
    "y.append(y_init)\n",
    "for k in range(len(x_arange)-1):\n",
    "    y.append(dx * dydx(x_arange[k]) + y[k])\n",
    "y=np.array(y)    "
   ]
  },
  {
   "cell_type": "code",
   "execution_count": 51,
   "metadata": {
    "collapsed": false,
    "scrolled": true
   },
   "outputs": [
    {
     "data": {
      "text/plain": [
       "<matplotlib.legend.Legend at 0x10500e490>"
      ]
     },
     "execution_count": 51,
     "metadata": {},
     "output_type": "execute_result"
    },
    {
     "data": {
      "image/png": "[encoded data removed]",
      "text/plain": [
       "<matplotlib.figure.Figure at 0x1058ffc50>"
      ]
     },
     "metadata": {},
     "output_type": "display_data"
    }
   ],
   "source": [
    "#Q1\n",
    "plt.plot(x_arange[::10],y[::10],'x',label='euler')\n",
    "plt.plot(x_arange,y_true(x_arange),label='analytical')\n",
    "plt.legend()"
   ]
  },
  {
   "cell_type": "code",
   "execution_count": 52,
   "metadata": {
    "collapsed": false
   },
   "outputs": [],
   "source": [
    "\n",
    "def sim(M):\n",
    "    print 'M is'\n",
    "    print M\n",
    "    [eig,eigvec]=np.linalg.eig(M)\n",
    "    print 'eigen values  are'\n",
    "    print eig\n",
    "    print 'eigen vectors are'\n",
    "    print eigvec\n",
    "    \n",
    "    dt=0.1\n",
    "    step=10000\n",
    "    step_h_change=5000\n",
    "    v=np.array([0.0,0.0])\n",
    "    h=np.array([1.0,1.0])\n",
    "    t=np.arange(0,step*dt,dt)\n",
    "    \n",
    "    v_hist=[]\n",
    "    for _ in range(step):\n",
    "        v_hist.append(v)\n",
    "        dvdt = -v + np.dot(M,v) + h\n",
    "        v = v + dvdt * dt\n",
    "        if _ == step_h_change:\n",
    "            h=h*0\n",
    "            \n",
    "    v_hist=np.array(v_hist)\n",
    "    plt.plot(t,v_hist[:,0],label='first neuron')\n",
    "    plt.plot(t,v_hist[:,1],label='second neuron')\n",
    "    plt.title('v history')\n",
    "    plt.xlabel('t')\n",
    "    plt.ylabel('v')\n",
    "    plt.legend()"
   ]
  },
  {
   "cell_type": "code",
   "execution_count": 56,
   "metadata": {
    "collapsed": false
   },
   "outputs": [
    {
     "name": "stdout",
     "output_type": "stream",
     "text": [
      "M is\n",
      "[[ 1.   0. ]\n",
      " [ 0.   0.2]]\n",
      "eigen values  are\n",
      "[ 1.   0.2]\n",
      "eigen vectors are\n",
      "[[ 1.  0.]\n",
      " [ 0.  1.]]\n"
     ]
    },
    {
     "data": {
      "image/png": "[encoded data removed]",
      "text/plain": [
       "<matplotlib.figure.Figure at 0x105733250>"
      ]
     },
     "metadata": {},
     "output_type": "display_data"
    }
   ],
   "source": [
    "#Q2,Q3\n",
    "M=np.array([[1.0,0.0],[0.0,0.2]])\n",
    "sim(M)"
   ]
  },
  {
   "cell_type": "code",
   "execution_count": 57,
   "metadata": {
    "collapsed": false
   },
   "outputs": [
    {
     "name": "stdout",
     "output_type": "stream",
     "text": [
      "M is\n",
      "[[ 0.99  0.  ]\n",
      " [ 0.    0.2 ]]\n",
      "eigen values  are\n",
      "[ 0.99  0.2 ]\n",
      "eigen vectors are\n",
      "[[ 1.  0.]\n",
      " [ 0.  1.]]\n"
     ]
    },
    {
     "data": {
      "image/png": "[encoded data removed]",
      "text/plain": [
       "<matplotlib.figure.Figure at 0x1062936d0>"
      ]
     },
     "metadata": {},
     "output_type": "display_data"
    }
   ],
   "source": [
    "#Q4\n",
    "M=np.array([[0.99,0.0],[0.0,0.2]])\n",
    "sim(M)"
   ]
  },
  {
   "cell_type": "code",
   "execution_count": 58,
   "metadata": {
    "collapsed": false
   },
   "outputs": [
    {
     "name": "stdout",
     "output_type": "stream",
     "text": [
      "M is\n",
      "[[ 1.01  0.  ]\n",
      " [ 0.    0.2 ]]\n",
      "eigen values  are\n",
      "[ 1.01  0.2 ]\n",
      "eigen vectors are\n",
      "[[ 1.  0.]\n",
      " [ 0.  1.]]\n"
     ]
    },
    {
     "data": {
      "image/png": "[encoded data removed]",
      "text/plain": [
       "<matplotlib.figure.Figure at 0x1058fe810>"
      ]
     },
     "metadata": {},
     "output_type": "display_data"
    }
   ],
   "source": [
    "#Q5\n",
    "M=np.array([[1.01,0.0],[0.0,0.2]])\n",
    "sim(M)"
   ]
  },
  {
   "cell_type": "code",
   "execution_count": null,
   "metadata": {
    "collapsed": true
   },
   "outputs": [],
   "source": []
  }
 ],
 "metadata": {
  "kernelspec": {
   "display_name": "Python 2",
   "language": "python",
   "name": "python2"
  },
  "language_info": {
   "codemirror_mode": {
    "name": "ipython",
    "version": 2
   },
   "file_extension": ".py",
   "mimetype": "text/x-python",
   "name": "python",
   "nbconvert_exporter": "python",
   "pygments_lexer": "ipython2",
   "version": "2.7.13"
  }
 },
 "nbformat": 4,
 "nbformat_minor": 2
}
